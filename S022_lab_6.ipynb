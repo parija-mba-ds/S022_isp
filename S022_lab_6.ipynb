{
  "nbformat": 4,
  "nbformat_minor": 0,
  "metadata": {
    "colab": {
      "provenance": []
    },
    "kernelspec": {
      "name": "python3",
      "display_name": "Python 3"
    },
    "language_info": {
      "name": "python"
    }
  },
  "cells": [
    {
      "cell_type": "code",
      "execution_count": 2,
      "metadata": {
        "id": "0R71BC3r7z5C"
      },
      "outputs": [],
      "source": [
        "string = \"GEEKSFORGEEKS\"\n",
        "keyword = \"SHARAN\""
      ]
    },
    {
      "cell_type": "code",
      "source": [
        "def generateKey(string, key):\n",
        "    key = list(key)\n",
        "    if len(string) == len(key):\n",
        "        return(key)\n",
        "    else:\n",
        "        for i in range(len(string) - len(key)):\n",
        "            key.append(key[i % len(key)])\n",
        "    return(\"\" . join(key))"
      ],
      "metadata": {
        "id": "Vy2_UfSY83op"
      },
      "execution_count": 3,
      "outputs": []
    },
    {
      "cell_type": "code",
      "source": [
        "def encrypt_cipherText(string, key):\n",
        "    cipher_text = []\n",
        "    for i in range(len(string)):\n",
        "        x = ((ord(string[i]) + ord(key[i])) % 26)+ord('A')\n",
        "        cipher_text.append(chr(x))\n",
        "    return(\"\" . join(cipher_text))"
      ],
      "metadata": {
        "id": "PFcND-iV84tI"
      },
      "execution_count": 4,
      "outputs": []
    },
    {
      "cell_type": "code",
      "source": [
        "key = generateKey(string, keyword)"
      ],
      "metadata": {
        "id": "yrU6cSS088wR"
      },
      "execution_count": 5,
      "outputs": []
    },
    {
      "cell_type": "code",
      "source": [
        "print(\"Original Message\",string)\n",
        "print(\"Keyword:\", keyword)\n",
        "cipher_text = encrypt_cipherText(string,key)\n",
        "print(\"Ciphertext :\", cipher_text)"
      ],
      "metadata": {
        "colab": {
          "base_uri": "https://localhost:8080/"
        },
        "id": "SIW1FdWg9AGZ",
        "outputId": "997cee76-9768-4e21-8949-e2a49f9aace2"
      },
      "execution_count": 6,
      "outputs": [
        {
          "output_type": "stream",
          "name": "stdout",
          "text": [
            "Original Message GEEKSFORGEEKS\n",
            "Keyword: SHARAN\n",
            "Ciphertext : YLEBSSGYGVEXK\n"
          ]
        }
      ]
    },
    {
      "cell_type": "code",
      "source": [
        "def decrypt_originalText(cipher_text, key):\n",
        "    orig_text = []\n",
        "    for i in range(len(cipher_text)):\n",
        "        x =( (ord(cipher_text[i]) - ord(key[i])) % 26 ) +ord('A')\n",
        "        orig_text.append(chr(x))\n",
        "    return(\"\" . join(orig_text))"
      ],
      "metadata": {
        "id": "rALV3Env9EdX"
      },
      "execution_count": 7,
      "outputs": []
    },
    {
      "cell_type": "code",
      "source": [
        "key = generateKey(string, keyword)\n",
        "cipher_text = encrypt_cipherText(string,key)\n",
        "print(\"Ciphertext :\", cipher_text)\n",
        "print(\"Original/Decrypted Text :\",decrypt_originalText(cipher_text, key))"
      ],
      "metadata": {
        "colab": {
          "base_uri": "https://localhost:8080/"
        },
        "id": "OHFXSHfG9H8D",
        "outputId": "97344027-6cdb-4692-8328-fe4bd4a63c4b"
      },
      "execution_count": 8,
      "outputs": [
        {
          "output_type": "stream",
          "name": "stdout",
          "text": [
            "Ciphertext : YLEBSSGYGVEXK\n",
            "Original/Decrypted Text : GEEKSFORGEEKS\n"
          ]
        }
      ]
    },
    {
      "cell_type": "code",
      "source": [
        "key = list(keyword)\n",
        "if len(string) == len(key):\n",
        "  print(key)\n",
        "else:\n",
        "  for i in range(len(string) - len(key)):\n",
        "    print(i % len(key))"
      ],
      "metadata": {
        "colab": {
          "base_uri": "https://localhost:8080/"
        },
        "id": "d8I8EI9W9QSY",
        "outputId": "4533cad3-3714-4cd2-caf6-59462fd39332"
      },
      "execution_count": 9,
      "outputs": [
        {
          "output_type": "stream",
          "name": "stdout",
          "text": [
            "0\n",
            "1\n",
            "2\n",
            "3\n",
            "4\n",
            "5\n",
            "0\n"
          ]
        }
      ]
    }
  ]
}