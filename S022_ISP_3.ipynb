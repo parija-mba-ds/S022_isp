{
  "nbformat": 4,
  "nbformat_minor": 0,
  "metadata": {
    "colab": {
      "provenance": [],
      "collapsed_sections": []
    },
    "kernelspec": {
      "name": "python3",
      "display_name": "Python 3"
    },
    "language_info": {
      "name": "python"
    }
  },
  "cells": [
    {
      "cell_type": "code",
      "source": [
        "fruits=['apple','banana','cherry','apple']\n",
        "newlist=[]\n",
        "\n",
        "for x in fruits:\n",
        "  if 'apple' in x:\n",
        "    newlist.append(x)\n",
        "\n",
        "print(newlist)"
      ],
      "metadata": {
        "colab": {
          "base_uri": "https://localhost:8080/"
        },
        "id": "XB4UgUQPfZA9",
        "outputId": "ba182fd6-ec7f-4450-c664-8afefd84bd32"
      },
      "execution_count": null,
      "outputs": [
        {
          "output_type": "stream",
          "name": "stdout",
          "text": [
            "['apple', 'apple']\n"
          ]
        }
      ]
    },
    {
      "cell_type": "markdown",
      "source": [
        "KEYWORD CIPHER"
      ],
      "metadata": {
        "id": "_wqKItRSrf69"
      }
    },
    {
      "cell_type": "code",
      "source": [
        "message = input(\"Enter a message : \")\n",
        "keyword = input(\" Enter a keyword : \")\n",
        "ciphertext = \"\""
      ],
      "metadata": {
        "colab": {
          "base_uri": "https://localhost:8080/"
        },
        "id": "UPjRDIoDqHOe",
        "outputId": "42dc06b7-560c-4482-b8bf-decfe0944d9e"
      },
      "execution_count": null,
      "outputs": [
        {
          "name": "stdout",
          "output_type": "stream",
          "text": [
            "Enter a message : super big secret you need to know but difficult to say\n",
            " Enter a keyword : nothi\n"
          ]
        }
      ]
    },
    {
      "cell_type": "code",
      "source": [
        "  (#plain text : A B C D E F G H I J K L M N O P Q R S T U V W X Y Z\n",
        "\n",
        "#key word :   S T A R W B C D E F G H I J K L M N O P Q U V X Y Z\n",
        "\n",
        "#ENCRYPTED : SPPSAG SP RSVJ\n"
      ],
      "metadata": {
        "colab": {
          "base_uri": "https://localhost:8080/",
          "height": 131
        },
        "id": "aOdA0b7HgfJG",
        "outputId": "47c92a3b-4582-4681-c6e9-45d1ea12c8f9"
      },
      "execution_count": null,
      "outputs": [
        {
          "output_type": "error",
          "ename": "SyntaxError",
          "evalue": "ignored",
          "traceback": [
            "\u001b[0;36m  File \u001b[0;32m\"<ipython-input-28-e5226f7aa351>\"\u001b[0;36m, line \u001b[0;32m5\u001b[0m\n\u001b[0;31m    # ENCRYPTED : SPPSAG SP RSVJ\u001b[0m\n\u001b[0m                                ^\u001b[0m\n\u001b[0;31mSyntaxError\u001b[0m\u001b[0;31m:\u001b[0m unexpected EOF while parsing\n"
          ]
        }
      ]
    },
    {
      "cell_type": "code",
      "source": [
        "\n",
        "#STORES ALL UPPER CASE ALPHABETS\n",
        "all_alphabets = []\n",
        "for i in range(65,91):\n",
        "  all_alphabets.append(chr(i))\n"
      ],
      "metadata": {
        "id": "GuzQjYacsV6O"
      },
      "execution_count": null,
      "outputs": []
    },
    {
      "cell_type": "markdown",
      "source": [
        "prints the alphabets in cvapital;"
      ],
      "metadata": {
        "id": "XIQh8846s74T"
      }
    },
    {
      "cell_type": "code",
      "source": [
        "print(all_alphabets)"
      ],
      "metadata": {
        "colab": {
          "base_uri": "https://localhost:8080/"
        },
        "id": "W9bRekcHs3Fj",
        "outputId": "683e3b2f-2e71-45d3-8ba6-7a11644d6b55"
      },
      "execution_count": null,
      "outputs": [
        {
          "output_type": "stream",
          "name": "stdout",
          "text": [
            "['A', 'B', 'C', 'D', 'E', 'F', 'G', 'H', 'I', 'J', 'K', 'L', 'M', 'N', 'O', 'P', 'Q', 'R', 'S', 'T', 'U', 'V', 'W', 'X', 'Y', 'Z']\n"
          ]
        }
      ]
    },
    {
      "cell_type": "code",
      "source": [
        "#converts message to list\n",
        "msg = []\n",
        "for i in message:\n",
        "  msg.append(i.upper())"
      ],
      "metadata": {
        "id": "1Po9_P1Ss7Ab"
      },
      "execution_count": null,
      "outputs": []
    },
    {
      "cell_type": "code",
      "source": [
        "print(msg)"
      ],
      "metadata": {
        "colab": {
          "base_uri": "https://localhost:8080/"
        },
        "id": "9o7cbBDMtL0j",
        "outputId": "dae30ecd-0346-4d99-a045-67dd93e0f3d5"
      },
      "execution_count": null,
      "outputs": [
        {
          "output_type": "stream",
          "name": "stdout",
          "text": [
            "['S', 'U', 'P', 'E', 'R', ' ', 'B', 'I', 'G', ' ', 'S', 'E', 'C', 'R', 'E', 'T', ' ', 'Y', 'O', 'U', ' ', 'N', 'E', 'E', 'D', ' ', 'T', 'O', ' ', 'K', 'N', 'O', 'W', ' ', 'B', 'U', 'T', ' ', 'D', 'I', 'F', 'F', 'I', 'C', 'U', 'L', 'T', ' ', 'T', 'O', ' ', 'S', 'A', 'Y']\n"
          ]
        }
      ]
    },
    {
      "cell_type": "code",
      "source": [
        "keyword1 = keyword.upper()"
      ],
      "metadata": {
        "id": "4qGSPBgatPEy"
      },
      "execution_count": null,
      "outputs": []
    },
    {
      "cell_type": "code",
      "source": [
        "#removes default elements/duplicates\n",
        "def duplicates(list):\n",
        "  key = []\n",
        "  for i in list:\n",
        "    if i not in key:\n",
        "      key.append(i)\n",
        "\n",
        "  return key"
      ],
      "metadata": {
        "id": "pgvuRKvVtcn6"
      },
      "execution_count": null,
      "outputs": []
    },
    {
      "cell_type": "code",
      "source": [
        "keyword1 = duplicates(keyword1)\n",
        "print(\"keyword after removing duplicates\",keyword1)\n",
        "\n",
        "#stores the encryption list\n",
        "encrypting = duplicates(keyword1+all_alphabets)\n",
        "print(\"Encrypting text is\",encrypting)\n",
        "\n",
        "#removes spaces freom the encrytion list\n",
        "for i in encrypting:\n",
        "  if(i==' '):\n",
        "    encrypting.remove(' ')\n",
        "print('final:',encrypting)"
      ],
      "metadata": {
        "colab": {
          "base_uri": "https://localhost:8080/"
        },
        "id": "vczKkMrruECu",
        "outputId": "b2498123-0b3d-4349-c61a-dedfeda3fcc6"
      },
      "execution_count": null,
      "outputs": [
        {
          "output_type": "stream",
          "name": "stdout",
          "text": [
            "keyword after removing duplicates ['N', 'O', 'T', 'H', 'I']\n",
            "Encrypting text is ['N', 'O', 'T', 'H', 'I', 'A', 'B', 'C', 'D', 'E', 'F', 'G', 'J', 'K', 'L', 'M', 'P', 'Q', 'R', 'S', 'U', 'V', 'W', 'X', 'Y', 'Z']\n",
            "final: ['N', 'O', 'T', 'H', 'I', 'A', 'B', 'C', 'D', 'E', 'F', 'G', 'J', 'K', 'L', 'M', 'P', 'Q', 'R', 'S', 'U', 'V', 'W', 'X', 'Y', 'Z']\n"
          ]
        }
      ]
    },
    {
      "cell_type": "code",
      "source": [
        "#maps each element of the message to the encryption list and stores it in the cipher list\n",
        "for i in range(len(msg)):\n",
        "  if(msg[i] != ' '):\n",
        "    ciphertext = ciphertext+encrypting[all_alphabets.index(msg[i])]\n",
        "  else:\n",
        "    ciphertext = ciphertext+' '"
      ],
      "metadata": {
        "id": "DGMq2Q4ZwNeB"
      },
      "execution_count": null,
      "outputs": []
    },
    {
      "cell_type": "code",
      "source": [
        "print(\"Keyword : \", keyword)\n",
        "print(\"Message before Ciphering : \", message)\n",
        "print(\"Ciphered Text : \", ciphertext)"
      ],
      "metadata": {
        "colab": {
          "base_uri": "https://localhost:8080/"
        },
        "id": "yzJzDg6IzNYt",
        "outputId": "f3d01db1-e41a-4e6f-fb46-ade8c487387a"
      },
      "execution_count": null,
      "outputs": [
        {
          "output_type": "stream",
          "name": "stdout",
          "text": [
            "Keyword :  nothi\n",
            "Message before Ciphering :  super big secret you need to know but difficult to say\n",
            "Ciphered Text :  RUMIQ ODB RITQIS YLU KIIH SL FKLW OUS HDAADTUGS SL RNY\n"
          ]
        }
      ]
    },
    {
      "cell_type": "code",
      "source": [],
      "metadata": {
        "id": "xZNvi4Hd0Ir1"
      },
      "execution_count": null,
      "outputs": []
    }
  ]
}