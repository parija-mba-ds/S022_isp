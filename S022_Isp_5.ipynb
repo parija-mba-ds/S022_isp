{
  "nbformat": 4,
  "nbformat_minor": 0,
  "metadata": {
    "colab": {
      "provenance": [],
      "collapsed_sections": []
    },
    "kernelspec": {
      "name": "python3",
      "display_name": "Python 3"
    },
    "language_info": {
      "name": "python"
    }
  },
  "cells": [
    {
      "cell_type": "markdown",
      "source": [
        "Cipher text\n"
      ],
      "metadata": {
        "id": "jekrFK4W3FQJ"
      }
    },
    {
      "cell_type": "code",
      "execution_count": null,
      "metadata": {
        "colab": {
          "base_uri": "https://localhost:8080/"
        },
        "id": "lnYR8st_p7jS",
        "outputId": "e5cce3bc-ed5c-47f6-a2de-c9738e3c2983"
      },
      "outputs": [
        {
          "name": "stdout",
          "output_type": "stream",
          "text": [
            "Enter string: COLLEGELIFE\n",
            "Enter message: PARIJA\n"
          ]
        }
      ],
      "source": [
        "string=input(\"Enter string: \")\n",
        "keyword=input(\"Enter message: \")"
      ]
    },
    {
      "cell_type": "code",
      "source": [
        "def generatekey(string,key):\n",
        "  key = list(key)\n",
        "  if len(string) == len(key):\n",
        "    return(key)\n",
        "  else:\n",
        "      for i in range(len(string)-len(key)):\n",
        "        key.append(key[i%len(key)])\n",
        "  return(\"\".join(key))"
      ],
      "metadata": {
        "id": "13k9srlmqVl9"
      },
      "execution_count": null,
      "outputs": []
    },
    {
      "cell_type": "code",
      "source": [
        "def encrypt_cipherText(string,key):\n",
        "  cipher_text=[]\n",
        "  for i in range(len(string)):\n",
        "    x=((ord(string[i])+ord(key[i]))%26)+ord('A')\n",
        "    cipher_text.append(chr(x))\n",
        "  return(\"\".join(cipher_text))"
      ],
      "metadata": {
        "id": "XZIGRn9BrH04"
      },
      "execution_count": null,
      "outputs": []
    },
    {
      "cell_type": "code",
      "source": [
        "\n",
        "key=generatekey(string,keyword)\n"
      ],
      "metadata": {
        "id": "eFIynRrGrysP"
      },
      "execution_count": null,
      "outputs": []
    },
    {
      "cell_type": "code",
      "source": [
        "print(\"Original Message \",string)\n",
        "print(\"keyword \",keyword)\n",
        "cipher_text=encrypt_cipherText(string,key)\n",
        "print(\"Ciphertext: \",cipher_text)"
      ],
      "metadata": {
        "colab": {
          "base_uri": "https://localhost:8080/"
        },
        "id": "CvZTceXKvprd",
        "outputId": "7c67e117-6eb7-4590-e1be-ed2c58317040"
      },
      "execution_count": null,
      "outputs": [
        {
          "output_type": "stream",
          "name": "stdout",
          "text": [
            "Original Message  COLLEGELIFE\n",
            "keyword  PARIJA\n",
            "Ciphertext:  ROCTNGTLZNN\n"
          ]
        }
      ]
    },
    {
      "cell_type": "code",
      "source": [
        " "
      ],
      "metadata": {
        "id": "3biqFs29wb-l"
      },
      "execution_count": null,
      "outputs": []
    }
  ]
}