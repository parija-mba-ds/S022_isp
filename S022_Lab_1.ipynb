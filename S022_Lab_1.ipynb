{
  "nbformat": 4,
  "nbformat_minor": 0,
  "metadata": {
    "colab": {
      "provenance": []
    },
    "kernelspec": {
      "name": "python3",
      "display_name": "Python 3"
    },
    "language_info": {
      "name": "python"
    }
  },
  "cells": [
    {
      "cell_type": "code",
      "execution_count": 1,
      "metadata": {
        "colab": {
          "base_uri": "https://localhost:8080/"
        },
        "id": "AxX5msZ24rI8",
        "outputId": "2afdbcb7-7009-4962-93bc-9d1408c04473"
      },
      "outputs": [
        {
          "output_type": "stream",
          "name": "stdout",
          "text": [
            "5\n"
          ]
        }
      ],
      "source": [
        "a=5\n",
        "b=6\n",
        "text=\"MBA TECH BATCH\"\n",
        "A=6\n",
        "#CANNOT START WITH NUMBER\n",
        "#CASE SENSTIVE\n",
        "print(a)"
      ]
    },
    {
      "cell_type": "code",
      "source": [
        "#ERROR INDENtATION IS IMPORTANT\n",
        "a = 33\n",
        "b = 200\n",
        "if b > a:\n",
        "print(\"b is greater than a\")"
      ],
      "metadata": {
        "colab": {
          "base_uri": "https://localhost:8080/"
        },
        "id": "-0Ws0Gtf5FyX",
        "outputId": "e2c1d07b-f6d3-4502-dabb-30f07e33f129"
      },
      "execution_count": 3,
      "outputs": [
        {
          "output_type": "stream",
          "name": "stdout",
          "text": [
            "b is greater than a\n"
          ]
        }
      ]
    },
    {
      "cell_type": "code",
      "source": [
        "a = 33\n",
        "b = 200\n",
        "if b > a:\n",
        "  print(\"b is greater than a\")"
      ],
      "metadata": {
        "colab": {
          "base_uri": "https://localhost:8080/"
        },
        "id": "3gScwS145SBp",
        "outputId": "bad5bac5-0ade-4d12-a936-eeec8bfca202"
      },
      "execution_count": 4,
      "outputs": [
        {
          "output_type": "stream",
          "name": "stdout",
          "text": [
            "b is greater than a\n"
          ]
        }
      ]
    },
    {
      "cell_type": "code",
      "source": [
        "num = 0\n",
        "\n",
        "if num > 0:\n",
        "    print(\"Positive number\")\n",
        "elif num == 0:\n",
        "    print(\"Zero\")\n",
        "else:\n",
        "    print(\"Negative number\")"
      ],
      "metadata": {
        "colab": {
          "base_uri": "https://localhost:8080/"
        },
        "id": "WyGl2NEQ5WYV",
        "outputId": "428f906d-af1b-4bdd-fd77-4d50885e8fd6"
      },
      "execution_count": 5,
      "outputs": [
        {
          "output_type": "stream",
          "name": "stdout",
          "text": [
            "Zero\n"
          ]
        }
      ]
    },
    {
      "cell_type": "code",
      "source": [
        "print(\"Hi, How are you?\")\n",
        "print(\"Hi, How are you?\")\n",
        "print(\"Hi, How are you?\")\n",
        "print(\"Hi, How are you?\")\n",
        "print(\"Hi, How are you?\")"
      ],
      "metadata": {
        "colab": {
          "base_uri": "https://localhost:8080/"
        },
        "id": "NCxTjzuH5eCn",
        "outputId": "11d417dd-d55d-4346-ac2c-d383f81f98f7"
      },
      "execution_count": 6,
      "outputs": [
        {
          "output_type": "stream",
          "name": "stdout",
          "text": [
            "Hi, How are you?\n",
            "Hi, How are you?\n",
            "Hi, How are you?\n",
            "Hi, How are you?\n",
            "Hi, How are you?\n"
          ]
        }
      ]
    },
    {
      "cell_type": "code",
      "source": [
        "for i in range(0,5):\n",
        "  print(i)\n",
        "  print(\"Hi, How are you?\")"
      ],
      "metadata": {
        "colab": {
          "base_uri": "https://localhost:8080/"
        },
        "id": "S0n6tJ7O5jch",
        "outputId": "8fbf5b63-9018-4b87-ac44-bc9fc0fc43c1"
      },
      "execution_count": 7,
      "outputs": [
        {
          "output_type": "stream",
          "name": "stdout",
          "text": [
            "0\n",
            "Hi, How are you?\n",
            "1\n",
            "Hi, How are you?\n",
            "2\n",
            "Hi, How are you?\n",
            "3\n",
            "Hi, How are you?\n",
            "4\n",
            "Hi, How are you?\n"
          ]
        }
      ]
    },
    {
      "cell_type": "code",
      "source": [
        "for i in range(0,5):\n",
        "  print(i)"
      ],
      "metadata": {
        "colab": {
          "base_uri": "https://localhost:8080/"
        },
        "id": "Yasw30KQ5rlZ",
        "outputId": "0bb5e788-a339-4805-f232-b049935987fa"
      },
      "execution_count": 8,
      "outputs": [
        {
          "output_type": "stream",
          "name": "stdout",
          "text": [
            "0\n",
            "1\n",
            "2\n",
            "3\n",
            "4\n"
          ]
        }
      ]
    },
    {
      "cell_type": "code",
      "source": [
        "text=\"MBA TECH\"\n",
        "print(len(text))\n",
        "for i in range(len(text)):\n",
        "\n",
        "\n",
        "        print(text[i])"
      ],
      "metadata": {
        "colab": {
          "base_uri": "https://localhost:8080/"
        },
        "id": "wT7G2c0C5wn9",
        "outputId": "c88ced03-f87d-48ce-983f-5ebaeb04969d"
      },
      "execution_count": 9,
      "outputs": [
        {
          "output_type": "stream",
          "name": "stdout",
          "text": [
            "8\n",
            "M\n",
            "B\n",
            "A\n",
            " \n",
            "T\n",
            "E\n",
            "C\n",
            "H\n"
          ]
        }
      ]
    },
    {
      "cell_type": "code",
      "source": [
        "a=5\n",
        "b=10\n",
        "sum=a+b\n",
        "print(\"SUM OF TWO NUMBERS IS :\",sum)"
      ],
      "metadata": {
        "colab": {
          "base_uri": "https://localhost:8080/"
        },
        "id": "k6LIJc0o51fh",
        "outputId": "0c110dbe-9563-4f9f-9742-a5b63fea7182"
      },
      "execution_count": 10,
      "outputs": [
        {
          "output_type": "stream",
          "name": "stdout",
          "text": [
            "SUM OF TWO NUMBERS IS : 15\n"
          ]
        }
      ]
    },
    {
      "cell_type": "code",
      "source": [
        "def sum( arg1, arg2 ):\n",
        "   # Add both the parameters and return them.\"\n",
        "   total = arg1 + arg2\n",
        "   print (\"Inside the function : \", total)\n",
        "   return total\n",
        "\n",
        "# Now you can call sum function\n",
        "total = sum( 10, 5 )\n",
        "print (\"Outside the function : \", total )"
      ],
      "metadata": {
        "colab": {
          "base_uri": "https://localhost:8080/"
        },
        "id": "bbB95Gvn55_9",
        "outputId": "1dc8e8ea-22dc-4b91-a7c5-479806161a9c"
      },
      "execution_count": 11,
      "outputs": [
        {
          "output_type": "stream",
          "name": "stdout",
          "text": [
            "Inside the function :  15\n",
            "Outside the function :  15\n"
          ]
        }
      ]
    },
    {
      "cell_type": "code",
      "source": [
        "#STEP 1: Take Inputs\n",
        "text=str(input(\"enter the word:\"))\n",
        "shift=int(input(\"Enter the key: \"))\n",
        "result=''"
      ],
      "metadata": {
        "colab": {
          "base_uri": "https://localhost:8080/"
        },
        "id": "2QKmo60b5_IK",
        "outputId": "7e241a27-3776-4973-db25-28ce5e5cbd64"
      },
      "execution_count": 14,
      "outputs": [
        {
          "name": "stdout",
          "output_type": "stream",
          "text": [
            "enter the word:abc\n",
            "Enter the key: 3\n"
          ]
        }
      ]
    },
    {
      "cell_type": "code",
      "source": [
        "#STEP 2:  Traverse\n",
        "for i in range(len(text)):\n",
        "  char = text[i]\n",
        "  print(char)"
      ],
      "metadata": {
        "colab": {
          "base_uri": "https://localhost:8080/"
        },
        "id": "FXOBeWhs6Dj4",
        "outputId": "4c07240e-6dcb-49a5-b14b-9c692e8d3bed"
      },
      "execution_count": 15,
      "outputs": [
        {
          "output_type": "stream",
          "name": "stdout",
          "text": [
            "a\n",
            "b\n",
            "c\n"
          ]
        }
      ]
    },
    {
      "cell_type": "code",
      "source": [
        "text = \"MAYUR\"\n",
        "shift = 3\n",
        "result=''\n",
        "\n",
        "for i in range(len(text)):\n",
        "  char = text[i]\n",
        "  print(\"Orignal char\",char)\n",
        "  result = result + chr((ord(char) + shift-65) % 26 + 65)\n",
        "  print(\"Corresponding cipher\",result[i])\n",
        "  print(\"-------------------------\")\n",
        "print(\"Final Result\",result)"
      ],
      "metadata": {
        "colab": {
          "base_uri": "https://localhost:8080/"
        },
        "id": "JRQfqjMC6UOI",
        "outputId": "f54bdda0-fac8-450f-9621-e6dd78aefba7"
      },
      "execution_count": 16,
      "outputs": [
        {
          "output_type": "stream",
          "name": "stdout",
          "text": [
            "Orignal char M\n",
            "Corresponding cipher P\n",
            "-------------------------\n",
            "Orignal char A\n",
            "Corresponding cipher D\n",
            "-------------------------\n",
            "Orignal char Y\n",
            "Corresponding cipher B\n",
            "-------------------------\n",
            "Orignal char U\n",
            "Corresponding cipher X\n",
            "-------------------------\n",
            "Orignal char R\n",
            "Corresponding cipher U\n",
            "-------------------------\n",
            "Final Result PDBXU\n"
          ]
        }
      ]
    },
    {
      "cell_type": "code",
      "source": [
        "# inbuilt function return an integer representing the Unicode code\n",
        "value = (ord(\"b\"))\n",
        "\n",
        "# prints the unicode value\n",
        "print (value)\n",
        "\n",
        "# print the character\n",
        "print(chr(value))\n",
        "\n",
        "#A-Z : 65 to 90\n",
        "#a-z : 97 to 122"
      ],
      "metadata": {
        "colab": {
          "base_uri": "https://localhost:8080/"
        },
        "id": "ydRQsKlH6j3T",
        "outputId": "477a395a-3bef-4028-a859-82cc48d00bc1"
      },
      "execution_count": 17,
      "outputs": [
        {
          "output_type": "stream",
          "name": "stdout",
          "text": [
            "98\n",
            "b\n"
          ]
        }
      ]
    },
    {
      "cell_type": "code",
      "source": [
        "value1 = (ord(\"A\"))\n",
        "print(\"Unicode code value of given char is \",value1)\n",
        "\n",
        "print(\"---------------------------------------\")\n",
        "\n",
        "value2 = (ord(\"A\")+3)\n",
        "print(\"Unicode with shift of 3 \",value2)\n",
        "\n",
        "print(\"---------------------------------------\")\n",
        "\n",
        "value2_1 = (ord(\"A\")+3)\n",
        "print(\"Char with shift of 3 \",chr(value2_1))\n",
        "\n",
        "print(\"---------------------------------------\")\n",
        "\n",
        "value3 = (ord(\"A\")+3-65)\n",
        "print(\"Convert to base of capital letter \",value3)\n",
        "\n",
        "print(\"---------------------------------------\")\n",
        "\n",
        "value4 = (ord(\"A\")+3-65)%26\n",
        "print(\"Taking Mod with 26 \",value4)\n",
        "\n",
        "print(\"---------------------------------------\")\n",
        "\n",
        "\n",
        "value5 = (ord(\"A\")+3-65)%26+65\n",
        "print(\"Unicode code value of cipher char is \",value5)\n",
        "\n",
        "\n",
        "print(\"---------------------------------------\")\n",
        "chr(value5)\n",
        "\n",
        "\n",
        "#breaking\n",
        "#(ord(\"A\")+3-65) makes base 0\n",
        "#"
      ],
      "metadata": {
        "colab": {
          "base_uri": "https://localhost:8080/",
          "height": 243
        },
        "id": "tj_KVeMm6lwE",
        "outputId": "6e8a2a4f-f50a-4914-9a1a-e4ab21597ab0"
      },
      "execution_count": 18,
      "outputs": [
        {
          "output_type": "stream",
          "name": "stdout",
          "text": [
            "Unicode code value of given char is  65\n",
            "---------------------------------------\n",
            "Unicode with shift of 3  68\n",
            "---------------------------------------\n",
            "Char with shift of 3  D\n",
            "---------------------------------------\n",
            "Convert to base of capital letter  3\n",
            "---------------------------------------\n",
            "Taking Mod with 26  3\n",
            "---------------------------------------\n",
            "Unicode code value of cipher char is  68\n",
            "---------------------------------------\n"
          ]
        },
        {
          "output_type": "execute_result",
          "data": {
            "text/plain": [
              "'D'"
            ],
            "application/vnd.google.colaboratory.intrinsic+json": {
              "type": "string"
            }
          },
          "metadata": {},
          "execution_count": 18
        }
      ]
    },
    {
      "cell_type": "code",
      "source": [
        "#STEP 5 FOR all lower case shift as per input\n",
        "text = \"abc\"\n",
        "shift = 4\n",
        "result=''\n",
        "for i in range(len(text)):\n",
        "  char = text[i]\n",
        "  result = result + chr((ord(char) + shift-97) % 26 + 97)\n",
        "print(result)"
      ],
      "metadata": {
        "colab": {
          "base_uri": "https://localhost:8080/"
        },
        "id": "jvGFcPzB6xgI",
        "outputId": "ff412089-cfaf-4170-ac8e-6d510e8790b3"
      },
      "execution_count": 19,
      "outputs": [
        {
          "output_type": "stream",
          "name": "stdout",
          "text": [
            "efg\n"
          ]
        }
      ]
    },
    {
      "cell_type": "code",
      "source": [
        "#INPUTS\n",
        "text = \"ABC\"\n",
        "shift = 3\n",
        "\n",
        "result=''\n",
        "# traverse text\n",
        "for i in range(len(text)):\n",
        "  char = text[i]\n",
        "\n",
        "  # Encrypt uppercase characters\n",
        "  if (char.isupper()):\n",
        "    result += chr((ord(char) + shift-65) % 26 + 65)\n",
        "    \n",
        "  # Encrypt lowercase characters\n",
        "  else:\n",
        "    result += chr((ord(char) + shift - 97) % 26 + 97)\n",
        "    \n",
        "\n",
        "print (\"Text : \" + text)\n",
        "print (\"Shift : \" + str(shift))\n",
        "print(\"Cipher : \", result)"
      ],
      "metadata": {
        "colab": {
          "base_uri": "https://localhost:8080/"
        },
        "id": "Uzds5AYP62vp",
        "outputId": "88ed9384-0236-4e80-b06f-4475f679ee18"
      },
      "execution_count": 20,
      "outputs": [
        {
          "output_type": "stream",
          "name": "stdout",
          "text": [
            "Text : ABC\n",
            "Shift : 3\n",
            "Cipher :  DEF\n"
          ]
        }
      ]
    },
    {
      "cell_type": "markdown",
      "source": [
        "Final ENCRYPTED CAESAR TECHNIQUE"
      ],
      "metadata": {
        "id": "XBBEzpmH67G1"
      }
    },
    {
      "cell_type": "code",
      "source": [
        "#A python program to illustrate Caesar Cipher Technique\n",
        "def encrypt(text,s):\n",
        "  result = \"\"\n",
        "  # traverse text\n",
        "  s=s\n",
        "  print(s)\n",
        "  for i in range(len(text)):\n",
        "    char = text[i]\n",
        "\n",
        "    # Encrypt uppercase characters\n",
        "    if (char.isupper()):\n",
        "      result += chr((ord(char) + s-65) % 26 + 65)\n",
        "\n",
        "    # Encrypt lowercase characters\n",
        "    else:\n",
        "      result += chr((ord(char) + s - 97) % 26 + 97)\n",
        "    \n",
        "  return result\n",
        "\n",
        "#check the above function\n",
        "text=str(input(\"enter the word:\"))\n",
        "shift=int(input(\"Enter the key: \"))\n",
        "# print (\"Text : \" + text)\n",
        "# print (\"Shift : \" + str(s))\n",
        "print (\"Cipher: \" + encrypt(text,shift))"
      ],
      "metadata": {
        "colab": {
          "base_uri": "https://localhost:8080/"
        },
        "id": "atZ96Zsr642X",
        "outputId": "2530acd7-de84-4920-9e17-f1ce1ed5ce20"
      },
      "execution_count": 23,
      "outputs": [
        {
          "output_type": "stream",
          "name": "stdout",
          "text": [
            "enter the word:letters\n",
            "Enter the key: 34\n",
            "34\n",
            "Cipher: tmbbmza\n"
          ]
        }
      ]
    },
    {
      "cell_type": "code",
      "source": [
        "def decrypt(text,s):\n",
        "\n",
        "\n",
        "  # Cipher(n) = De-cipher(26-n)\n",
        "  s=26-s \n",
        "  print(s)    \n",
        "  result=\"\" \n",
        "  for i in range(len(text)):\n",
        "      char=text[i]\n",
        "      if(char.isupper()):  \n",
        "          result=result+chr((ord(char)+s-65)%26+65)\n",
        "      else:\n",
        "          result=result+chr((ord(char)+s-97)%26+97)\n",
        "  return result\n",
        "\n",
        "\n",
        "word=str(input(\"enter the word:\"))\n",
        "d=int(input(\"Enter the key: \"))\n",
        "\n",
        "print(\"Encoded word in Caeser cipher is: \",decrypt(word,d))"
      ],
      "metadata": {
        "colab": {
          "base_uri": "https://localhost:8080/"
        },
        "id": "PJV46xjJ7Ex_",
        "outputId": "67949a01-9550-4f4c-c5e0-41380c48480c"
      },
      "execution_count": 22,
      "outputs": [
        {
          "output_type": "stream",
          "name": "stdout",
          "text": [
            "enter the word:lalA\n",
            "Enter the key: 33\n",
            "-7\n",
            "Encoded word in Caeser cipher is:  eteT\n"
          ]
        }
      ]
    }
  ]
}