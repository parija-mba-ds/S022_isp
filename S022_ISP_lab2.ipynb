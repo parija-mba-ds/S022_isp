{
  "nbformat": 4,
  "nbformat_minor": 0,
  "metadata": {
    "colab": {
      "provenance": [],
      "collapsed_sections": []
    },
    "kernelspec": {
      "name": "python3",
      "display_name": "Python 3"
    },
    "language_info": {
      "name": "python"
    }
  },
  "cells": [
    {
      "cell_type": "markdown",
      "source": [
        "**Vernan Cipher** italicized text"
      ],
      "metadata": {
        "id": "8b7MpAhGwVmk"
      }
    },
    {
      "cell_type": "code",
      "execution_count": null,
      "metadata": {
        "id": "zK91moB7flGF",
        "colab": {
          "base_uri": "https://localhost:8080/"
        },
        "outputId": "3622d096-7fb3-4377-df41-3ab0a73b6ccf"
      },
      "outputs": [
        {
          "name": "stdout",
          "output_type": "stream",
          "text": [
            "Enter the message: let me go down slowly\n",
            "Enter the one time pad: kkk jj tt ffff gggggg\n"
          ]
        }
      ],
      "source": [
        "#Getting inputs\n",
        "plain_text=input(\"Enter the message: \")\n",
        "key=input(\"Enter the one time pad: \")\n",
        "cipher_text=\"\""
      ]
    },
    {
      "cell_type": "code",
      "source": [
        "#Data clean: Replacing the space and converting it to lower space\n",
        "plain_text=plain_text.replace(\" \",\" \")\n",
        "key=key.replace(\" \",\" \")\n",
        "plain_text=plain_text.lower()\n",
        "key=key.lower()"
      ],
      "metadata": {
        "id": "DslnArksm3xS"
      },
      "execution_count": null,
      "outputs": []
    },
    {
      "cell_type": "code",
      "source": [
        "#Checking if the lengths are equal\n",
        "if(len(plain_text) != len(key)):\n",
        "  print(\"the lengths are not equal\")\n",
        "\n",
        "else:\n",
        "   print(\"the lengths are equal\") "
      ],
      "metadata": {
        "colab": {
          "base_uri": "https://localhost:8080/"
        },
        "id": "hT9crMPxnkVy",
        "outputId": "41fa4c0d-1533-44eb-dc3a-b0e10281de93"
      },
      "execution_count": null,
      "outputs": [
        {
          "output_type": "stream",
          "name": "stdout",
          "text": [
            "the lengths are equal\n"
          ]
        }
      ]
    },
    {
      "cell_type": "code",
      "source": [
        "#Logic(adding the key and plain text no.s)\n",
        "cipher_text=\" \"\n",
        "\n",
        "#traversing through the length\n",
        "for i in range(len(plain_text)):\n",
        "  k1=ord(plain_text[i])-97 #Getting input ascci value for the lower\n",
        "  k2=ord(key[i])-97  #Getting key ascci value for lower\n",
        "  s=chr((k1+k2)%26+97) #(k1+k2)%26 for lower and we take mod because we want it in the range of 26\n",
        "  cipher_text +=s  #Concatenating\n",
        "print(\"The encrypted message is the cipher text \",cipher_text)"
      ],
      "metadata": {
        "colab": {
          "base_uri": "https://localhost:8080/"
        },
        "id": "gnNp8t5Qn-Vr",
        "outputId": "e88e12ca-1d03-49d3-ff73-9fca2e39d484"
      },
      "execution_count": null,
      "outputs": [
        {
          "output_type": "stream",
          "name": "stdout",
          "text": [
            "The encrypted message is the cipher text   vodavnazhaitbsayrucre\n"
          ]
        }
      ]
    },
    {
      "cell_type": "code",
      "source": [],
      "metadata": {
        "id": "xxrXfjqLr03j"
      },
      "execution_count": null,
      "outputs": []
    }
  ]
}